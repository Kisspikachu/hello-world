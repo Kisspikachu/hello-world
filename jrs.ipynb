{
 "cells": [
  {
   "cell_type": "code",
   "execution_count": 45,
   "metadata": {},
   "outputs": [
    {
     "name": "stdout",
     "output_type": "stream",
     "text": [
      "bf0\n",
      "bf1\n",
      "bf2\n",
      "bf3\n",
      "bf4\n",
      "bf5\n",
      "bf6\n",
      "兄弟你是她的第7任,不要伤心，jrs永远在你身边\n"
     ]
    }
   ],
   "source": [
    "import time\n",
    "import random\n",
    "def get_bf():\n",
    "    return 'bf'\n",
    "def find_ex():\n",
    "    bf = get_bf() + str(len(ex))\n",
    "    time.sleep(0.18)\n",
    "    print(bf)\n",
    "    ex.append(bf)\n",
    "    if(len(ex)==n_ex):\n",
    "        return print('兄弟你是她的第' + str(n_ex) + '任,不要伤心，jrs永远在你身边') \n",
    "    else:\n",
    "        return(find_ex())\n",
    "if __name__=='__main__':\n",
    "    ex = []\n",
    "    n_ex = random.randint(0,10)\n",
    "    find_ex()"
   ]
  },
  {
   "cell_type": "code",
   "execution_count": null,
   "metadata": {},
   "outputs": [],
   "source": []
  },
  {
   "cell_type": "code",
   "execution_count": null,
   "metadata": {
    "collapsed": true
   },
   "outputs": [],
   "source": []
  }
 ],
 "metadata": {
  "kernelspec": {
   "display_name": "Python 3",
   "language": "python",
   "name": "python3"
  },
  "language_info": {
   "codemirror_mode": {
    "name": "ipython",
    "version": 3
   },
   "file_extension": ".py",
   "mimetype": "text/x-python",
   "name": "python",
   "nbconvert_exporter": "python",
   "pygments_lexer": "ipython3",
   "version": "3.6.0"
  }
 },
 "nbformat": 4,
 "nbformat_minor": 2
}
